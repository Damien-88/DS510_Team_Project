{
 "cells": [
  {
   "cell_type": "code",
   "execution_count": 9,
   "id": "b3fc760e",
   "metadata": {},
   "outputs": [],
   "source": [
    "import pandas as pd\n",
    "import os"
   ]
  },
  {
   "cell_type": "code",
   "execution_count": 7,
   "id": "c96dca32",
   "metadata": {},
   "outputs": [],
   "source": [
    "xls = pd.ExcelFile(\"big-mac-2024-07-01.xls\")"
   ]
  },
  {
   "cell_type": "code",
   "execution_count": 8,
   "id": "196fb2d5",
   "metadata": {},
   "outputs": [],
   "source": [
    "for sheet in xls.sheet_names:\n",
    "    df = xls.parse(sheet)\n",
    "    df.to_csv(f\"{sheet}.csv\", index = False)"
   ]
  },
  {
   "cell_type": "code",
   "execution_count": 11,
   "id": "cd5833f5",
   "metadata": {},
   "outputs": [],
   "source": [
    "csv_files = [f for f in os.listdir(\".\") if f.endswith(\".csv\")]\n",
    "df_list = []\n",
    "\n",
    "for file in csv_files:\n",
    "    base_name = os.path.splitext(file)[0]\n",
    "    year_str = base_name[-4:]\n",
    "\n",
    "    try:\n",
    "        year = int(year_str)\n",
    "    except ValueError:\n",
    "        print(f\"Skipping file '{file}' — couldn't extract year.\")\n",
    "        continue\n",
    "\n",
    "    df = pd.read_csv(file)\n",
    "    df['Year'] = year\n",
    "\n",
    "    df_list.append(df)"
   ]
  },
  {
   "cell_type": "code",
   "execution_count": 12,
   "id": "0e45158f",
   "metadata": {},
   "outputs": [],
   "source": [
    "combined_df = pd.concat(df_list, ignore_index = True)"
   ]
  },
  {
   "cell_type": "code",
   "execution_count": 13,
   "id": "b79985f4",
   "metadata": {},
   "outputs": [
    {
     "name": "stdout",
     "output_type": "stream",
     "text": [
      "Combined CSV file created successfully: combined_big_mac_data.csv\n"
     ]
    }
   ],
   "source": [
    "combined_df.to_csv(\"combined_big_mac_data.csv\", index = False)\n",
    "print(\"Combined CSV file created successfully: combined_big_mac_data.csv\")"
   ]
  }
 ],
 "metadata": {
  "kernelspec": {
   "display_name": "Python 3",
   "language": "python",
   "name": "python3"
  },
  "language_info": {
   "codemirror_mode": {
    "name": "ipython",
    "version": 3
   },
   "file_extension": ".py",
   "mimetype": "text/x-python",
   "name": "python",
   "nbconvert_exporter": "python",
   "pygments_lexer": "ipython3",
   "version": "3.13.3"
  }
 },
 "nbformat": 4,
 "nbformat_minor": 5
}
